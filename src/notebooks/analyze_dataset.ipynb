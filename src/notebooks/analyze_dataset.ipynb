{
 "cells": [
  {
   "metadata": {
    "ExecuteTime": {
     "end_time": "2025-03-31T12:24:42.027727Z",
     "start_time": "2025-03-31T12:24:40.542860Z"
    }
   },
   "cell_type": "code",
   "source": [
    "import pandas as pd\n",
    "import ast"
   ],
   "id": "7c5b89af06838e7a",
   "outputs": [],
   "execution_count": 1
  },
  {
   "metadata": {},
   "cell_type": "markdown",
   "source": "# Overall Dataset",
   "id": "6a4a5279c9381d0c"
  },
  {
   "metadata": {
    "ExecuteTime": {
     "end_time": "2025-03-14T10:44:58.626278Z",
     "start_time": "2025-03-14T10:44:58.550402Z"
    }
   },
   "cell_type": "code",
   "source": "git_good_bench_full = pd.read_csv('../../data/git_good_bench_full.csv', index_col=0)",
   "id": "183d49040881b703",
   "outputs": [],
   "execution_count": 2
  },
  {
   "metadata": {
    "ExecuteTime": {
     "end_time": "2025-03-14T10:45:11.867061Z",
     "start_time": "2025-03-14T10:45:11.558413Z"
    }
   },
   "cell_type": "code",
   "source": "git_good_bench_full['scenario'] = git_good_bench_full.apply(lambda x: ast.literal_eval(x['scenario']), axis=1)",
   "id": "bc93e85714579ae9",
   "outputs": [],
   "execution_count": 3
  },
  {
   "metadata": {
    "ExecuteTime": {
     "end_time": "2025-03-14T10:45:40.139206Z",
     "start_time": "2025-03-14T10:45:40.135015Z"
    }
   },
   "cell_type": "code",
   "source": "len(git_good_bench_full[git_good_bench_full['sample_type'] == 'merge'])",
   "id": "9fb808d3bbc2034d",
   "outputs": [
    {
     "data": {
      "text/plain": [
       "6917"
      ]
     },
     "execution_count": 5,
     "metadata": {},
     "output_type": "execute_result"
    }
   ],
   "execution_count": 5
  },
  {
   "metadata": {
    "ExecuteTime": {
     "end_time": "2025-03-14T10:45:51.151624Z",
     "start_time": "2025-03-14T10:45:51.147230Z"
    }
   },
   "cell_type": "code",
   "source": "len(git_good_bench_full[git_good_bench_full['sample_type'] == 'file_commit_chain'])",
   "id": "6899ff7d983a3206",
   "outputs": [
    {
     "data": {
      "text/plain": [
       "11572"
      ]
     },
     "execution_count": 6,
     "metadata": {},
     "output_type": "execute_result"
    }
   ],
   "execution_count": 6
  },
  {
   "metadata": {
    "ExecuteTime": {
     "end_time": "2025-03-14T10:47:53.548447Z",
     "start_time": "2025-03-14T10:47:53.545061Z"
    }
   },
   "cell_type": "code",
   "source": "len(git_good_bench_full[git_good_bench_full['programming_language'] == 'kotlin']['name'].unique())",
   "id": "d4e153f688053d32",
   "outputs": [
    {
     "data": {
      "text/plain": [
       "79"
      ]
     },
     "execution_count": 12,
     "metadata": {},
     "output_type": "execute_result"
    }
   ],
   "execution_count": 12
  },
  {
   "metadata": {},
   "cell_type": "markdown",
   "source": "# Our benchmark",
   "id": "f9bcac39bd5bf130"
  },
  {
   "metadata": {},
   "cell_type": "markdown",
   "source": "## GitGoodBench Lite",
   "id": "d136dfe520265b1c"
  },
  {
   "metadata": {
    "ExecuteTime": {
     "end_time": "2025-03-31T12:55:54.711070Z",
     "start_time": "2025-03-31T12:55:54.706063Z"
    }
   },
   "cell_type": "code",
   "source": "git_good_bench_lite = pd.read_csv('../../data/git_good_bench_lite.csv', index_col=0)",
   "id": "4aae8b680cbccff2",
   "outputs": [],
   "execution_count": 72
  },
  {
   "metadata": {
    "ExecuteTime": {
     "end_time": "2025-03-31T12:26:55.396405Z",
     "start_time": "2025-03-31T12:26:55.389783Z"
    }
   },
   "cell_type": "code",
   "source": "git_good_bench_lite['scenario'] = git_good_bench_lite.apply(lambda x: ast.literal_eval(x['scenario']), axis=1)",
   "id": "a4fd14507fe507b6",
   "outputs": [],
   "execution_count": 12
  },
  {
   "metadata": {
    "ExecuteTime": {
     "end_time": "2025-03-28T15:15:02.564487Z",
     "start_time": "2025-03-28T15:15:02.561974Z"
    }
   },
   "cell_type": "code",
   "source": "len(git_good_bench_lite.name.unique())",
   "id": "7f4e2ec07f7b476",
   "outputs": [
    {
     "data": {
      "text/plain": [
       "100"
      ]
     },
     "execution_count": 7,
     "metadata": {},
     "output_type": "execute_result"
    }
   ],
   "execution_count": 7
  },
  {
   "metadata": {
    "ExecuteTime": {
     "end_time": "2025-03-28T15:17:52.755795Z",
     "start_time": "2025-03-28T15:17:52.750316Z"
    }
   },
   "cell_type": "code",
   "source": "git_good_bench_lite.groupby('name').size().sort_values(ascending=False).describe()",
   "id": "275ffb6f2eb9eeb1",
   "outputs": [
    {
     "data": {
      "text/plain": [
       "count    100.000000\n",
       "mean       1.200000\n",
       "std        0.791368\n",
       "min        1.000000\n",
       "25%        1.000000\n",
       "50%        1.000000\n",
       "75%        1.000000\n",
       "max        8.000000\n",
       "dtype: float64"
      ]
     },
     "execution_count": 14,
     "metadata": {},
     "output_type": "execute_result"
    }
   ],
   "execution_count": 14
  },
  {
   "metadata": {
    "ExecuteTime": {
     "end_time": "2025-03-28T15:19:09.605888Z",
     "start_time": "2025-03-28T15:19:09.601518Z"
    }
   },
   "cell_type": "code",
   "source": "git_good_bench_lite['name'].value_counts(normalize=True)",
   "id": "2b2832f05503abf3",
   "outputs": [
    {
     "data": {
      "text/plain": [
       "name\n",
       "oss-review-toolkit/ort                       0.066667\n",
       "stripe/stripe-android                        0.025000\n",
       "element-hq/element-android                   0.025000\n",
       "apache/hive                                  0.016667\n",
       "coil-kt/coil                                 0.016667\n",
       "                                               ...   \n",
       "vitorpamplona/amethyst                       0.008333\n",
       "JetBrains/intellij-platform-gradle-plugin    0.008333\n",
       "raamcosta/compose-destinations               0.008333\n",
       "android/wear-os-samples                      0.008333\n",
       "paddlepaddle/paddledetection                 0.008333\n",
       "Name: proportion, Length: 100, dtype: float64"
      ]
     },
     "execution_count": 17,
     "metadata": {},
     "output_type": "execute_result"
    }
   ],
   "execution_count": 17
  },
  {
   "metadata": {
    "ExecuteTime": {
     "end_time": "2025-03-28T15:24:49.480620Z",
     "start_time": "2025-03-28T15:24:49.477255Z"
    }
   },
   "cell_type": "code",
   "source": "git_good_bench_lite[git_good_bench_lite['sample_type'] == 'merge']['difficulty'].value_counts(normalize=True)",
   "id": "e4f59d08cf26fe94",
   "outputs": [
    {
     "data": {
      "text/plain": [
       "difficulty\n",
       "easy      0.516667\n",
       "hard      0.266667\n",
       "medium    0.216667\n",
       "Name: proportion, dtype: float64"
      ]
     },
     "execution_count": 21,
     "metadata": {},
     "output_type": "execute_result"
    }
   ],
   "execution_count": 21
  },
  {
   "metadata": {
    "ExecuteTime": {
     "end_time": "2025-03-31T12:56:05.445120Z",
     "start_time": "2025-03-31T12:56:05.442748Z"
    }
   },
   "cell_type": "code",
   "source": "git_good_bench_lite.reset_index(drop=True, inplace=True)",
   "id": "a91a21fa22266b50",
   "outputs": [],
   "execution_count": 73
  },
  {
   "metadata": {
    "ExecuteTime": {
     "end_time": "2025-03-31T12:56:09.904312Z",
     "start_time": "2025-03-31T12:56:09.898994Z"
    }
   },
   "cell_type": "code",
   "source": "git_good_bench_lite",
   "id": "3f68d0aaed62cb95",
   "outputs": [
    {
     "data": {
      "text/plain": [
       "                                                    id  \\\n",
       "0                           mockito_mockito_merge_0002   \n",
       "1                             magefree_mage_merge_0003   \n",
       "2    spring_projects_spring_data_elasticsearch_merg...   \n",
       "3                   spongepowered_spongeapi_merge_0001   \n",
       "4                             apache_ignite_merge_0001   \n",
       "..                                                 ...   \n",
       "115               gpflow_gpflow_file_commit_chain_0000   \n",
       "116               mlflow_mlflow_file_commit_chain_0013   \n",
       "117         pyparsing_pyparsing_file_commit_chain_0019   \n",
       "118  montrealcorpustools_montreal_forced_aligner_fi...   \n",
       "119  paddlepaddle_paddledetection_file_commit_chain...   \n",
       "\n",
       "                                            name default_branch  \\\n",
       "0                                mockito/mockito           main   \n",
       "1                                  magefree/mage         master   \n",
       "2      spring-projects/spring-data-elasticsearch           main   \n",
       "3                        spongepowered/spongeapi         api-10   \n",
       "4                                  apache/ignite         master   \n",
       "..                                           ...            ...   \n",
       "115                                gpflow/gpflow        develop   \n",
       "116                                mlflow/mlflow         master   \n",
       "117                          pyparsing/pyparsing         master   \n",
       "118  montrealcorpustools/montreal-forced-aligner           main   \n",
       "119                 paddlepaddle/paddledetection    release/2.7   \n",
       "\n",
       "                license  stargazers           created_at  \\\n",
       "0           MIT License       14617  2012-10-13T08:27:12   \n",
       "1           MIT License        1772  2012-04-27T01:18:34   \n",
       "2    Apache License 2.0        2869  2013-04-29T02:27:38   \n",
       "3           MIT License        1131  2014-09-07T08:39:25   \n",
       "4    Apache License 2.0        4697  2015-02-19T08:00:05   \n",
       "..                  ...         ...                  ...   \n",
       "115  Apache License 2.0        1803  2016-01-14T11:29:24   \n",
       "116  Apache License 2.0       17335  2018-06-05T04:05:58   \n",
       "117         MIT License        2116  2017-05-14T06:07:01   \n",
       "118         MIT License        1208  2015-10-26T05:02:06   \n",
       "119  Apache License 2.0       12186  2019-10-25T07:21:14   \n",
       "\n",
       "                                                topics programming_language  \\\n",
       "0    java;java-library;mock;mock-library;mocking;mo...                 java   \n",
       "1    ai;card;ccg;client-server;computer-opponents;d...                 java   \n",
       "2                                          unavailable                 java   \n",
       "3    api;gradle;hacktoberfest;java;minecraft;sponge...                 java   \n",
       "4    big-data;cache;cloud;data-management-platform;...                 java   \n",
       "..                                                 ...                  ...   \n",
       "115  bayesian-statistics;deep-learning;gaussian-pro...               python   \n",
       "116  ai;apache-spark;machine-learning;ml;mlflow;mod...               python   \n",
       "117  parser-combinators;parsing;parsing-expression-...               python   \n",
       "118  acoustic-model;forced-alignment;grapheme-to-ph...               python   \n",
       "119  blazeface;deepsort;detr;face-detection;fairmot...               python   \n",
       "\n",
       "                                              scenario        sample_type  \\\n",
       "0    {'merge_commit_hash': '8fd4b19ff7df80471dfa54d...              merge   \n",
       "1    {'merge_commit_hash': 'ad9f325b7278c9da1775e39...              merge   \n",
       "2    {'merge_commit_hash': '485320b388e4710f63a7598...              merge   \n",
       "3    {'merge_commit_hash': '23479504704ac0d7763ab8c...              merge   \n",
       "4    {'merge_commit_hash': 'd126cad25c410065162113c...              merge   \n",
       "..                                                 ...                ...   \n",
       "115  {'file': 'gpflow/models/svgp.py', 'branch': 'o...  file_commit_chain   \n",
       "116  {'file': 'mlflow/evaluation/fluent.py', 'branc...  file_commit_chain   \n",
       "117  {'file': 'unitTests.py', 'branch': 'origin/uni...  file_commit_chain   \n",
       "118  {'file': 'tests/test_commandline.py', 'branch'...  file_commit_chain   \n",
       "119  {'file': 'ppdet/modeling/layers.py', 'branch':...  file_commit_chain   \n",
       "\n",
       "    project_size difficulty  \n",
       "0         medium       easy  \n",
       "1           huge       hard  \n",
       "2         medium     medium  \n",
       "3         medium       easy  \n",
       "4           huge       hard  \n",
       "..           ...        ...  \n",
       "115       medium       hard  \n",
       "116        large       hard  \n",
       "117       medium       hard  \n",
       "118       medium     medium  \n",
       "119        large     medium  \n",
       "\n",
       "[120 rows x 12 columns]"
      ],
      "text/html": [
       "<div>\n",
       "<style scoped>\n",
       "    .dataframe tbody tr th:only-of-type {\n",
       "        vertical-align: middle;\n",
       "    }\n",
       "\n",
       "    .dataframe tbody tr th {\n",
       "        vertical-align: top;\n",
       "    }\n",
       "\n",
       "    .dataframe thead th {\n",
       "        text-align: right;\n",
       "    }\n",
       "</style>\n",
       "<table border=\"1\" class=\"dataframe\">\n",
       "  <thead>\n",
       "    <tr style=\"text-align: right;\">\n",
       "      <th></th>\n",
       "      <th>id</th>\n",
       "      <th>name</th>\n",
       "      <th>default_branch</th>\n",
       "      <th>license</th>\n",
       "      <th>stargazers</th>\n",
       "      <th>created_at</th>\n",
       "      <th>topics</th>\n",
       "      <th>programming_language</th>\n",
       "      <th>scenario</th>\n",
       "      <th>sample_type</th>\n",
       "      <th>project_size</th>\n",
       "      <th>difficulty</th>\n",
       "    </tr>\n",
       "  </thead>\n",
       "  <tbody>\n",
       "    <tr>\n",
       "      <th>0</th>\n",
       "      <td>mockito_mockito_merge_0002</td>\n",
       "      <td>mockito/mockito</td>\n",
       "      <td>main</td>\n",
       "      <td>MIT License</td>\n",
       "      <td>14617</td>\n",
       "      <td>2012-10-13T08:27:12</td>\n",
       "      <td>java;java-library;mock;mock-library;mocking;mo...</td>\n",
       "      <td>java</td>\n",
       "      <td>{'merge_commit_hash': '8fd4b19ff7df80471dfa54d...</td>\n",
       "      <td>merge</td>\n",
       "      <td>medium</td>\n",
       "      <td>easy</td>\n",
       "    </tr>\n",
       "    <tr>\n",
       "      <th>1</th>\n",
       "      <td>magefree_mage_merge_0003</td>\n",
       "      <td>magefree/mage</td>\n",
       "      <td>master</td>\n",
       "      <td>MIT License</td>\n",
       "      <td>1772</td>\n",
       "      <td>2012-04-27T01:18:34</td>\n",
       "      <td>ai;card;ccg;client-server;computer-opponents;d...</td>\n",
       "      <td>java</td>\n",
       "      <td>{'merge_commit_hash': 'ad9f325b7278c9da1775e39...</td>\n",
       "      <td>merge</td>\n",
       "      <td>huge</td>\n",
       "      <td>hard</td>\n",
       "    </tr>\n",
       "    <tr>\n",
       "      <th>2</th>\n",
       "      <td>spring_projects_spring_data_elasticsearch_merg...</td>\n",
       "      <td>spring-projects/spring-data-elasticsearch</td>\n",
       "      <td>main</td>\n",
       "      <td>Apache License 2.0</td>\n",
       "      <td>2869</td>\n",
       "      <td>2013-04-29T02:27:38</td>\n",
       "      <td>unavailable</td>\n",
       "      <td>java</td>\n",
       "      <td>{'merge_commit_hash': '485320b388e4710f63a7598...</td>\n",
       "      <td>merge</td>\n",
       "      <td>medium</td>\n",
       "      <td>medium</td>\n",
       "    </tr>\n",
       "    <tr>\n",
       "      <th>3</th>\n",
       "      <td>spongepowered_spongeapi_merge_0001</td>\n",
       "      <td>spongepowered/spongeapi</td>\n",
       "      <td>api-10</td>\n",
       "      <td>MIT License</td>\n",
       "      <td>1131</td>\n",
       "      <td>2014-09-07T08:39:25</td>\n",
       "      <td>api;gradle;hacktoberfest;java;minecraft;sponge...</td>\n",
       "      <td>java</td>\n",
       "      <td>{'merge_commit_hash': '23479504704ac0d7763ab8c...</td>\n",
       "      <td>merge</td>\n",
       "      <td>medium</td>\n",
       "      <td>easy</td>\n",
       "    </tr>\n",
       "    <tr>\n",
       "      <th>4</th>\n",
       "      <td>apache_ignite_merge_0001</td>\n",
       "      <td>apache/ignite</td>\n",
       "      <td>master</td>\n",
       "      <td>Apache License 2.0</td>\n",
       "      <td>4697</td>\n",
       "      <td>2015-02-19T08:00:05</td>\n",
       "      <td>big-data;cache;cloud;data-management-platform;...</td>\n",
       "      <td>java</td>\n",
       "      <td>{'merge_commit_hash': 'd126cad25c410065162113c...</td>\n",
       "      <td>merge</td>\n",
       "      <td>huge</td>\n",
       "      <td>hard</td>\n",
       "    </tr>\n",
       "    <tr>\n",
       "      <th>...</th>\n",
       "      <td>...</td>\n",
       "      <td>...</td>\n",
       "      <td>...</td>\n",
       "      <td>...</td>\n",
       "      <td>...</td>\n",
       "      <td>...</td>\n",
       "      <td>...</td>\n",
       "      <td>...</td>\n",
       "      <td>...</td>\n",
       "      <td>...</td>\n",
       "      <td>...</td>\n",
       "      <td>...</td>\n",
       "    </tr>\n",
       "    <tr>\n",
       "      <th>115</th>\n",
       "      <td>gpflow_gpflow_file_commit_chain_0000</td>\n",
       "      <td>gpflow/gpflow</td>\n",
       "      <td>develop</td>\n",
       "      <td>Apache License 2.0</td>\n",
       "      <td>1803</td>\n",
       "      <td>2016-01-14T11:29:24</td>\n",
       "      <td>bayesian-statistics;deep-learning;gaussian-pro...</td>\n",
       "      <td>python</td>\n",
       "      <td>{'file': 'gpflow/models/svgp.py', 'branch': 'o...</td>\n",
       "      <td>file_commit_chain</td>\n",
       "      <td>medium</td>\n",
       "      <td>hard</td>\n",
       "    </tr>\n",
       "    <tr>\n",
       "      <th>116</th>\n",
       "      <td>mlflow_mlflow_file_commit_chain_0013</td>\n",
       "      <td>mlflow/mlflow</td>\n",
       "      <td>master</td>\n",
       "      <td>Apache License 2.0</td>\n",
       "      <td>17335</td>\n",
       "      <td>2018-06-05T04:05:58</td>\n",
       "      <td>ai;apache-spark;machine-learning;ml;mlflow;mod...</td>\n",
       "      <td>python</td>\n",
       "      <td>{'file': 'mlflow/evaluation/fluent.py', 'branc...</td>\n",
       "      <td>file_commit_chain</td>\n",
       "      <td>large</td>\n",
       "      <td>hard</td>\n",
       "    </tr>\n",
       "    <tr>\n",
       "      <th>117</th>\n",
       "      <td>pyparsing_pyparsing_file_commit_chain_0019</td>\n",
       "      <td>pyparsing/pyparsing</td>\n",
       "      <td>master</td>\n",
       "      <td>MIT License</td>\n",
       "      <td>2116</td>\n",
       "      <td>2017-05-14T06:07:01</td>\n",
       "      <td>parser-combinators;parsing;parsing-expression-...</td>\n",
       "      <td>python</td>\n",
       "      <td>{'file': 'unitTests.py', 'branch': 'origin/uni...</td>\n",
       "      <td>file_commit_chain</td>\n",
       "      <td>medium</td>\n",
       "      <td>hard</td>\n",
       "    </tr>\n",
       "    <tr>\n",
       "      <th>118</th>\n",
       "      <td>montrealcorpustools_montreal_forced_aligner_fi...</td>\n",
       "      <td>montrealcorpustools/montreal-forced-aligner</td>\n",
       "      <td>main</td>\n",
       "      <td>MIT License</td>\n",
       "      <td>1208</td>\n",
       "      <td>2015-10-26T05:02:06</td>\n",
       "      <td>acoustic-model;forced-alignment;grapheme-to-ph...</td>\n",
       "      <td>python</td>\n",
       "      <td>{'file': 'tests/test_commandline.py', 'branch'...</td>\n",
       "      <td>file_commit_chain</td>\n",
       "      <td>medium</td>\n",
       "      <td>medium</td>\n",
       "    </tr>\n",
       "    <tr>\n",
       "      <th>119</th>\n",
       "      <td>paddlepaddle_paddledetection_file_commit_chain...</td>\n",
       "      <td>paddlepaddle/paddledetection</td>\n",
       "      <td>release/2.7</td>\n",
       "      <td>Apache License 2.0</td>\n",
       "      <td>12186</td>\n",
       "      <td>2019-10-25T07:21:14</td>\n",
       "      <td>blazeface;deepsort;detr;face-detection;fairmot...</td>\n",
       "      <td>python</td>\n",
       "      <td>{'file': 'ppdet/modeling/layers.py', 'branch':...</td>\n",
       "      <td>file_commit_chain</td>\n",
       "      <td>large</td>\n",
       "      <td>medium</td>\n",
       "    </tr>\n",
       "  </tbody>\n",
       "</table>\n",
       "<p>120 rows × 12 columns</p>\n",
       "</div>"
      ]
     },
     "execution_count": 74,
     "metadata": {},
     "output_type": "execute_result"
    }
   ],
   "execution_count": 74
  },
  {
   "metadata": {
    "ExecuteTime": {
     "end_time": "2025-03-31T12:56:17.396141Z",
     "start_time": "2025-03-31T12:56:17.392837Z"
    }
   },
   "cell_type": "code",
   "source": "len(git_good_bench_lite.id.unique())",
   "id": "1a1d922340f29456",
   "outputs": [
    {
     "data": {
      "text/plain": [
       "120"
      ]
     },
     "execution_count": 75,
     "metadata": {},
     "output_type": "execute_result"
    }
   ],
   "execution_count": 75
  },
  {
   "metadata": {
    "ExecuteTime": {
     "end_time": "2025-03-31T12:56:27.815806Z",
     "start_time": "2025-03-31T12:56:27.810819Z"
    }
   },
   "cell_type": "code",
   "source": "git_good_bench_lite.to_parquet('../../data/git_good_bench_lite.parquet')",
   "id": "de6520114fa162cc",
   "outputs": [],
   "execution_count": 76
  },
  {
   "metadata": {},
   "cell_type": "markdown",
   "source": "## GitGoodBench",
   "id": "bf1d81c03678412"
  },
  {
   "metadata": {
    "ExecuteTime": {
     "end_time": "2025-03-31T12:56:52.642544Z",
     "start_time": "2025-03-31T12:56:52.633113Z"
    }
   },
   "cell_type": "code",
   "source": "git_good_bench = pd.read_csv('../../data/git_good_bench.csv', index_col=0)",
   "id": "5ac0732d5b232b60",
   "outputs": [],
   "execution_count": 77
  },
  {
   "metadata": {
    "ExecuteTime": {
     "end_time": "2025-03-28T15:28:43.160658Z",
     "start_time": "2025-03-28T15:28:43.132979Z"
    }
   },
   "cell_type": "code",
   "source": "git_good_bench['scenario'] = git_good_bench.apply(lambda x: ast.literal_eval(x['scenario']), axis=1)",
   "id": "cae10f7359124920",
   "outputs": [],
   "execution_count": 23
  },
  {
   "metadata": {
    "ExecuteTime": {
     "end_time": "2025-03-28T15:28:44.400335Z",
     "start_time": "2025-03-28T15:28:44.396788Z"
    }
   },
   "cell_type": "code",
   "source": "len(git_good_bench.name.unique())",
   "id": "247e0d0eced4ad31",
   "outputs": [
    {
     "data": {
      "text/plain": [
       "479"
      ]
     },
     "execution_count": 24,
     "metadata": {},
     "output_type": "execute_result"
    }
   ],
   "execution_count": 24
  },
  {
   "metadata": {
    "ExecuteTime": {
     "end_time": "2025-03-28T15:28:46.072500Z",
     "start_time": "2025-03-28T15:28:46.066974Z"
    }
   },
   "cell_type": "code",
   "source": "git_good_bench.groupby('name').size().sort_values(ascending=False).describe()",
   "id": "79d22dcc9ecedfa9",
   "outputs": [
    {
     "data": {
      "text/plain": [
       "count    479.000000\n",
       "mean       1.878914\n",
       "std        2.801291\n",
       "min        1.000000\n",
       "25%        1.000000\n",
       "50%        1.000000\n",
       "75%        2.000000\n",
       "max       46.000000\n",
       "dtype: float64"
      ]
     },
     "execution_count": 25,
     "metadata": {},
     "output_type": "execute_result"
    }
   ],
   "execution_count": 25
  },
  {
   "metadata": {
    "ExecuteTime": {
     "end_time": "2025-03-28T15:28:46.747639Z",
     "start_time": "2025-03-28T15:28:46.742585Z"
    }
   },
   "cell_type": "code",
   "source": "git_good_bench['name'].value_counts(normalize=True)",
   "id": "5b0dd27d22b4bf27",
   "outputs": [
    {
     "data": {
      "text/plain": [
       "name\n",
       "oss-review-toolkit/ort             0.051111\n",
       "stripe/stripe-android              0.032222\n",
       "element-hq/element-android         0.024444\n",
       "jetbrains/compose-multiplatform    0.012222\n",
       "kotlin/dokka                       0.010000\n",
       "                                     ...   \n",
       "qutip/qutip                        0.001111\n",
       "archivebox/archivebox              0.001111\n",
       "abhinavsingh/proxy.py              0.001111\n",
       "emissary-ingress/emissary          0.001111\n",
       "python-poetry/poetry               0.001111\n",
       "Name: proportion, Length: 479, dtype: float64"
      ]
     },
     "execution_count": 26,
     "metadata": {},
     "output_type": "execute_result"
    }
   ],
   "execution_count": 26
  },
  {
   "metadata": {
    "ExecuteTime": {
     "end_time": "2025-03-28T15:28:48.160510Z",
     "start_time": "2025-03-28T15:28:48.155724Z"
    }
   },
   "cell_type": "code",
   "source": "git_good_bench[git_good_bench['sample_type'] == 'merge']['difficulty'].value_counts(normalize=True)",
   "id": "2464ec1555e2fca7",
   "outputs": [
    {
     "data": {
      "text/plain": [
       "difficulty\n",
       "easy      0.413333\n",
       "hard      0.342222\n",
       "medium    0.244444\n",
       "Name: proportion, dtype: float64"
      ]
     },
     "execution_count": 29,
     "metadata": {},
     "output_type": "execute_result"
    }
   ],
   "execution_count": 29
  },
  {
   "metadata": {
    "ExecuteTime": {
     "end_time": "2025-03-31T12:44:26.149392Z",
     "start_time": "2025-03-31T12:44:26.141815Z"
    }
   },
   "cell_type": "code",
   "source": "git_good_bench.reset_index()",
   "id": "cfa5f3c91ced7bc4",
   "outputs": [
    {
     "data": {
      "text/plain": [
       "                                                    id  \\\n",
       "0                           geysermc_geyser_merge_0005   \n",
       "1                         apache_cloudstack_merge_0001   \n",
       "2              alibaba_spring_cloud_alibaba_merge_0001   \n",
       "3                               redis_jedis_merge_0011   \n",
       "4                              apache_iotdb_merge_0068   \n",
       "..                                                 ...   \n",
       "895  eleutherai_lm_evaluation_harness_file_commit_c...   \n",
       "896     vocodedev_vocode_python_file_commit_chain_0014   \n",
       "897          tensorflow_quantum_file_commit_chain_0001   \n",
       "898        jeshraghian_snntorch_file_commit_chain_0000   \n",
       "899        python_poetry_poetry_file_commit_chain_0002   \n",
       "\n",
       "                                 name default_branch             license  \\\n",
       "0                     geysermc/geyser         master         MIT License   \n",
       "1                   apache/cloudstack           main  Apache License 2.0   \n",
       "2        alibaba/spring-cloud-alibaba         2023.x  Apache License 2.0   \n",
       "3                         redis/jedis         master         MIT License   \n",
       "4                        apache/iotdb         master  Apache License 2.0   \n",
       "..                                ...            ...                 ...   \n",
       "895  eleutherai/lm-evaluation-harness           main         MIT License   \n",
       "896           vocodedev/vocode-python           main         MIT License   \n",
       "897                tensorflow/quantum         master  Apache License 2.0   \n",
       "898              jeshraghian/snntorch         master         MIT License   \n",
       "899              python-poetry/poetry           main         MIT License   \n",
       "\n",
       "     stargazers           created_at  \\\n",
       "0          4471  2019-07-08T05:23:17   \n",
       "1          1770  2013-04-29T10:27:12   \n",
       "2         27382  2017-12-01T08:49:15   \n",
       "3         11663  2010-06-11T01:04:43   \n",
       "4          4278  2018-11-24T09:29:17   \n",
       "..          ...                  ...   \n",
       "895        5140  2020-08-28T12:09:15   \n",
       "896        2380  2023-02-24T06:44:46   \n",
       "897        1750  2020-02-06T07:58:35   \n",
       "898        1111  2020-09-28T10:14:20   \n",
       "899       29738  2018-02-28T03:23:47   \n",
       "\n",
       "                                                topics programming_language  \\\n",
       "0    bedrock;bedrock-edition;bedrock-to-java;bungee...                 java   \n",
       "1    cloud;cloudstack;iaas;infrastructure;java;kube...                 java   \n",
       "2    alibaba;alibaba-middleware;alibaba-oss;aliyun;...                 java   \n",
       "3          java;jedis;redis;redis-client;redis-cluster                 java   \n",
       "4     big-data;database;iot;java;nosql;timeseries;tsdb                 java   \n",
       "..                                                 ...                  ...   \n",
       "895    evaluation-framework;language-model;transformer               python   \n",
       "896                                      not available               python   \n",
       "897                                      not available               python   \n",
       "898  machine-learning;neural-networks;neuron-models...               python   \n",
       "899  dependency-manager;package-manager;packaging;p...               python   \n",
       "\n",
       "                                              scenario        sample_type  \\\n",
       "0    {'merge_commit_hash': '120b367a41019ed2fd44573...              merge   \n",
       "1    {'merge_commit_hash': 'e1b56be67c86d4e5a19bf4c...              merge   \n",
       "2    {'merge_commit_hash': '717eaa61112db977e2ed028...              merge   \n",
       "3    {'merge_commit_hash': '6a488b6a91a401faae05c49...              merge   \n",
       "4    {'merge_commit_hash': 'ca7b6ea65cdebeb0bc71a96...              merge   \n",
       "..                                                 ...                ...   \n",
       "895  {'file': 'lm_eval/tasks/__init__.py', 'branch'...  file_commit_chain   \n",
       "896  {'file': 'vocode/streaming/agent/utils.py', 'b...  file_commit_chain   \n",
       "897  {'file': 'tensorflow_quantum/core/ops/load_mod...  file_commit_chain   \n",
       "898  {'file': 'snntorch/functional/loss.py', 'branc...  file_commit_chain   \n",
       "899  {'file': 'src/poetry/console/application.py', ...  file_commit_chain   \n",
       "\n",
       "    project_size project_activity difficulty  \n",
       "0          large            month       easy  \n",
       "1           huge            month       easy  \n",
       "2         medium            month       hard  \n",
       "3          large            month       easy  \n",
       "4          large            month       easy  \n",
       "..           ...              ...        ...  \n",
       "895       medium            month       hard  \n",
       "896       medium            month       hard  \n",
       "897       medium            month       easy  \n",
       "898       medium            month       easy  \n",
       "899       medium            month     medium  \n",
       "\n",
       "[900 rows x 13 columns]"
      ],
      "text/html": [
       "<div>\n",
       "<style scoped>\n",
       "    .dataframe tbody tr th:only-of-type {\n",
       "        vertical-align: middle;\n",
       "    }\n",
       "\n",
       "    .dataframe tbody tr th {\n",
       "        vertical-align: top;\n",
       "    }\n",
       "\n",
       "    .dataframe thead th {\n",
       "        text-align: right;\n",
       "    }\n",
       "</style>\n",
       "<table border=\"1\" class=\"dataframe\">\n",
       "  <thead>\n",
       "    <tr style=\"text-align: right;\">\n",
       "      <th></th>\n",
       "      <th>id</th>\n",
       "      <th>name</th>\n",
       "      <th>default_branch</th>\n",
       "      <th>license</th>\n",
       "      <th>stargazers</th>\n",
       "      <th>created_at</th>\n",
       "      <th>topics</th>\n",
       "      <th>programming_language</th>\n",
       "      <th>scenario</th>\n",
       "      <th>sample_type</th>\n",
       "      <th>project_size</th>\n",
       "      <th>project_activity</th>\n",
       "      <th>difficulty</th>\n",
       "    </tr>\n",
       "  </thead>\n",
       "  <tbody>\n",
       "    <tr>\n",
       "      <th>0</th>\n",
       "      <td>geysermc_geyser_merge_0005</td>\n",
       "      <td>geysermc/geyser</td>\n",
       "      <td>master</td>\n",
       "      <td>MIT License</td>\n",
       "      <td>4471</td>\n",
       "      <td>2019-07-08T05:23:17</td>\n",
       "      <td>bedrock;bedrock-edition;bedrock-to-java;bungee...</td>\n",
       "      <td>java</td>\n",
       "      <td>{'merge_commit_hash': '120b367a41019ed2fd44573...</td>\n",
       "      <td>merge</td>\n",
       "      <td>large</td>\n",
       "      <td>month</td>\n",
       "      <td>easy</td>\n",
       "    </tr>\n",
       "    <tr>\n",
       "      <th>1</th>\n",
       "      <td>apache_cloudstack_merge_0001</td>\n",
       "      <td>apache/cloudstack</td>\n",
       "      <td>main</td>\n",
       "      <td>Apache License 2.0</td>\n",
       "      <td>1770</td>\n",
       "      <td>2013-04-29T10:27:12</td>\n",
       "      <td>cloud;cloudstack;iaas;infrastructure;java;kube...</td>\n",
       "      <td>java</td>\n",
       "      <td>{'merge_commit_hash': 'e1b56be67c86d4e5a19bf4c...</td>\n",
       "      <td>merge</td>\n",
       "      <td>huge</td>\n",
       "      <td>month</td>\n",
       "      <td>easy</td>\n",
       "    </tr>\n",
       "    <tr>\n",
       "      <th>2</th>\n",
       "      <td>alibaba_spring_cloud_alibaba_merge_0001</td>\n",
       "      <td>alibaba/spring-cloud-alibaba</td>\n",
       "      <td>2023.x</td>\n",
       "      <td>Apache License 2.0</td>\n",
       "      <td>27382</td>\n",
       "      <td>2017-12-01T08:49:15</td>\n",
       "      <td>alibaba;alibaba-middleware;alibaba-oss;aliyun;...</td>\n",
       "      <td>java</td>\n",
       "      <td>{'merge_commit_hash': '717eaa61112db977e2ed028...</td>\n",
       "      <td>merge</td>\n",
       "      <td>medium</td>\n",
       "      <td>month</td>\n",
       "      <td>hard</td>\n",
       "    </tr>\n",
       "    <tr>\n",
       "      <th>3</th>\n",
       "      <td>redis_jedis_merge_0011</td>\n",
       "      <td>redis/jedis</td>\n",
       "      <td>master</td>\n",
       "      <td>MIT License</td>\n",
       "      <td>11663</td>\n",
       "      <td>2010-06-11T01:04:43</td>\n",
       "      <td>java;jedis;redis;redis-client;redis-cluster</td>\n",
       "      <td>java</td>\n",
       "      <td>{'merge_commit_hash': '6a488b6a91a401faae05c49...</td>\n",
       "      <td>merge</td>\n",
       "      <td>large</td>\n",
       "      <td>month</td>\n",
       "      <td>easy</td>\n",
       "    </tr>\n",
       "    <tr>\n",
       "      <th>4</th>\n",
       "      <td>apache_iotdb_merge_0068</td>\n",
       "      <td>apache/iotdb</td>\n",
       "      <td>master</td>\n",
       "      <td>Apache License 2.0</td>\n",
       "      <td>4278</td>\n",
       "      <td>2018-11-24T09:29:17</td>\n",
       "      <td>big-data;database;iot;java;nosql;timeseries;tsdb</td>\n",
       "      <td>java</td>\n",
       "      <td>{'merge_commit_hash': 'ca7b6ea65cdebeb0bc71a96...</td>\n",
       "      <td>merge</td>\n",
       "      <td>large</td>\n",
       "      <td>month</td>\n",
       "      <td>easy</td>\n",
       "    </tr>\n",
       "    <tr>\n",
       "      <th>...</th>\n",
       "      <td>...</td>\n",
       "      <td>...</td>\n",
       "      <td>...</td>\n",
       "      <td>...</td>\n",
       "      <td>...</td>\n",
       "      <td>...</td>\n",
       "      <td>...</td>\n",
       "      <td>...</td>\n",
       "      <td>...</td>\n",
       "      <td>...</td>\n",
       "      <td>...</td>\n",
       "      <td>...</td>\n",
       "      <td>...</td>\n",
       "    </tr>\n",
       "    <tr>\n",
       "      <th>895</th>\n",
       "      <td>eleutherai_lm_evaluation_harness_file_commit_c...</td>\n",
       "      <td>eleutherai/lm-evaluation-harness</td>\n",
       "      <td>main</td>\n",
       "      <td>MIT License</td>\n",
       "      <td>5140</td>\n",
       "      <td>2020-08-28T12:09:15</td>\n",
       "      <td>evaluation-framework;language-model;transformer</td>\n",
       "      <td>python</td>\n",
       "      <td>{'file': 'lm_eval/tasks/__init__.py', 'branch'...</td>\n",
       "      <td>file_commit_chain</td>\n",
       "      <td>medium</td>\n",
       "      <td>month</td>\n",
       "      <td>hard</td>\n",
       "    </tr>\n",
       "    <tr>\n",
       "      <th>896</th>\n",
       "      <td>vocodedev_vocode_python_file_commit_chain_0014</td>\n",
       "      <td>vocodedev/vocode-python</td>\n",
       "      <td>main</td>\n",
       "      <td>MIT License</td>\n",
       "      <td>2380</td>\n",
       "      <td>2023-02-24T06:44:46</td>\n",
       "      <td>not available</td>\n",
       "      <td>python</td>\n",
       "      <td>{'file': 'vocode/streaming/agent/utils.py', 'b...</td>\n",
       "      <td>file_commit_chain</td>\n",
       "      <td>medium</td>\n",
       "      <td>month</td>\n",
       "      <td>hard</td>\n",
       "    </tr>\n",
       "    <tr>\n",
       "      <th>897</th>\n",
       "      <td>tensorflow_quantum_file_commit_chain_0001</td>\n",
       "      <td>tensorflow/quantum</td>\n",
       "      <td>master</td>\n",
       "      <td>Apache License 2.0</td>\n",
       "      <td>1750</td>\n",
       "      <td>2020-02-06T07:58:35</td>\n",
       "      <td>not available</td>\n",
       "      <td>python</td>\n",
       "      <td>{'file': 'tensorflow_quantum/core/ops/load_mod...</td>\n",
       "      <td>file_commit_chain</td>\n",
       "      <td>medium</td>\n",
       "      <td>month</td>\n",
       "      <td>easy</td>\n",
       "    </tr>\n",
       "    <tr>\n",
       "      <th>898</th>\n",
       "      <td>jeshraghian_snntorch_file_commit_chain_0000</td>\n",
       "      <td>jeshraghian/snntorch</td>\n",
       "      <td>master</td>\n",
       "      <td>MIT License</td>\n",
       "      <td>1111</td>\n",
       "      <td>2020-09-28T10:14:20</td>\n",
       "      <td>machine-learning;neural-networks;neuron-models...</td>\n",
       "      <td>python</td>\n",
       "      <td>{'file': 'snntorch/functional/loss.py', 'branc...</td>\n",
       "      <td>file_commit_chain</td>\n",
       "      <td>medium</td>\n",
       "      <td>month</td>\n",
       "      <td>easy</td>\n",
       "    </tr>\n",
       "    <tr>\n",
       "      <th>899</th>\n",
       "      <td>python_poetry_poetry_file_commit_chain_0002</td>\n",
       "      <td>python-poetry/poetry</td>\n",
       "      <td>main</td>\n",
       "      <td>MIT License</td>\n",
       "      <td>29738</td>\n",
       "      <td>2018-02-28T03:23:47</td>\n",
       "      <td>dependency-manager;package-manager;packaging;p...</td>\n",
       "      <td>python</td>\n",
       "      <td>{'file': 'src/poetry/console/application.py', ...</td>\n",
       "      <td>file_commit_chain</td>\n",
       "      <td>medium</td>\n",
       "      <td>month</td>\n",
       "      <td>medium</td>\n",
       "    </tr>\n",
       "  </tbody>\n",
       "</table>\n",
       "<p>900 rows × 13 columns</p>\n",
       "</div>"
      ]
     },
     "execution_count": 53,
     "metadata": {},
     "output_type": "execute_result"
    }
   ],
   "execution_count": 53
  },
  {
   "metadata": {
    "ExecuteTime": {
     "end_time": "2025-03-31T12:57:17.862232Z",
     "start_time": "2025-03-31T12:57:17.851261Z"
    }
   },
   "cell_type": "code",
   "source": "git_good_bench = pd.read_csv('../../data/git_good_bench.csv', index_col=0)",
   "id": "6e6e2ed3c1ace602",
   "outputs": [],
   "execution_count": 81
  },
  {
   "metadata": {
    "ExecuteTime": {
     "end_time": "2025-03-31T12:57:35.917462Z",
     "start_time": "2025-03-31T12:57:35.914682Z"
    }
   },
   "cell_type": "code",
   "source": "git_good_bench.reset_index(inplace=True)",
   "id": "fb88f5dadd68b0b2",
   "outputs": [],
   "execution_count": 83
  },
  {
   "metadata": {
    "ExecuteTime": {
     "end_time": "2025-03-31T12:57:41.627740Z",
     "start_time": "2025-03-31T12:57:41.623609Z"
    }
   },
   "cell_type": "code",
   "source": "git_good_bench.drop(columns=['project_activity'], inplace=True)",
   "id": "77d1ef0ad3837cb7",
   "outputs": [],
   "execution_count": 84
  },
  {
   "metadata": {
    "ExecuteTime": {
     "end_time": "2025-03-31T12:57:43.132321Z",
     "start_time": "2025-03-31T12:57:43.125626Z"
    }
   },
   "cell_type": "code",
   "source": "git_good_bench.to_parquet('../../data/git_good_bench.parquet')",
   "id": "a995a250470d34dd",
   "outputs": [],
   "execution_count": 85
  },
  {
   "metadata": {},
   "cell_type": "markdown",
   "source": "## GitGoodBench Train",
   "id": "1c17a2cb0c6e600a"
  },
  {
   "metadata": {
    "ExecuteTime": {
     "end_time": "2025-03-28T15:29:16.291730Z",
     "start_time": "2025-03-28T15:29:16.218425Z"
    }
   },
   "cell_type": "code",
   "source": "git_good_bench_train = pd.read_csv('../../data/git_good_bench_train.csv', index_col=0)",
   "id": "545dc9ca72445fd5",
   "outputs": [],
   "execution_count": 30
  },
  {
   "metadata": {
    "ExecuteTime": {
     "end_time": "2025-03-28T15:29:16.805842Z",
     "start_time": "2025-03-28T15:29:16.500127Z"
    }
   },
   "cell_type": "code",
   "source": "git_good_bench_train['scenario'] = git_good_bench_train.apply(lambda x: ast.literal_eval(x['scenario']), axis=1)",
   "id": "611aaf2a88ba3ed2",
   "outputs": [],
   "execution_count": 31
  },
  {
   "metadata": {
    "ExecuteTime": {
     "end_time": "2025-03-28T15:29:16.813359Z",
     "start_time": "2025-03-28T15:29:16.810736Z"
    }
   },
   "cell_type": "code",
   "source": "len(git_good_bench_train.name.unique())",
   "id": "5441cd3bbaa28854",
   "outputs": [
    {
     "data": {
      "text/plain": [
       "816"
      ]
     },
     "execution_count": 32,
     "metadata": {},
     "output_type": "execute_result"
    }
   ],
   "execution_count": 32
  },
  {
   "metadata": {
    "ExecuteTime": {
     "end_time": "2025-03-28T15:29:17.182720Z",
     "start_time": "2025-03-28T15:29:17.177133Z"
    }
   },
   "cell_type": "code",
   "source": "git_good_bench_train.groupby('name').size().sort_values(ascending=False).describe()",
   "id": "4e9045cbf9755e2c",
   "outputs": [
    {
     "data": {
      "text/plain": [
       "count    816.000000\n",
       "mean      21.408088\n",
       "std       48.798410\n",
       "min        1.000000\n",
       "25%        2.000000\n",
       "50%        6.000000\n",
       "75%       18.000000\n",
       "max      644.000000\n",
       "dtype: float64"
      ]
     },
     "execution_count": 33,
     "metadata": {},
     "output_type": "execute_result"
    }
   ],
   "execution_count": 33
  },
  {
   "metadata": {
    "ExecuteTime": {
     "end_time": "2025-03-28T15:29:17.496694Z",
     "start_time": "2025-03-28T15:29:17.492894Z"
    }
   },
   "cell_type": "code",
   "source": "git_good_bench_train['name'].value_counts(normalize=True)",
   "id": "d8a0210a7169b22d",
   "outputs": [
    {
     "data": {
      "text/plain": [
       "name\n",
       "zulip/zulip                                  0.036865\n",
       "trinodb/trino                                0.024730\n",
       "wandb/wandb                                  0.024558\n",
       "facebook/litho                               0.021581\n",
       "oss-review-toolkit/ort                       0.019635\n",
       "                                               ...   \n",
       "inventree/inventree                          0.000057\n",
       "JetBrains/intellij-platform-gradle-plugin    0.000057\n",
       "pengrad/java-telegram-bot-api                0.000057\n",
       "pyscript/pyscript                            0.000057\n",
       "avaiga/taipy                                 0.000057\n",
       "Name: proportion, Length: 816, dtype: float64"
      ]
     },
     "execution_count": 34,
     "metadata": {},
     "output_type": "execute_result"
    }
   ],
   "execution_count": 34
  },
  {
   "metadata": {
    "ExecuteTime": {
     "end_time": "2025-03-28T15:34:20.661028Z",
     "start_time": "2025-03-28T15:34:20.656521Z"
    }
   },
   "cell_type": "code",
   "source": "git_good_bench_train['programming_language'].value_counts()",
   "id": "7785da288b40144b",
   "outputs": [
    {
     "data": {
      "text/plain": [
       "programming_language\n",
       "python    10985\n",
       "java       5881\n",
       "kotlin      603\n",
       "Name: count, dtype: int64"
      ]
     },
     "execution_count": 36,
     "metadata": {},
     "output_type": "execute_result"
    }
   ],
   "execution_count": 36
  },
  {
   "metadata": {
    "ExecuteTime": {
     "end_time": "2025-03-28T15:34:45.176189Z",
     "start_time": "2025-03-28T15:34:45.171643Z"
    }
   },
   "cell_type": "code",
   "source": "git_good_bench_train['programming_language'].value_counts(normalize=True)\n",
   "id": "c5c58d9633239998",
   "outputs": [
    {
     "data": {
      "text/plain": [
       "programming_language\n",
       "python    0.628828\n",
       "java      0.336654\n",
       "kotlin    0.034518\n",
       "Name: proportion, dtype: float64"
      ]
     },
     "execution_count": 37,
     "metadata": {},
     "output_type": "execute_result"
    }
   ],
   "execution_count": 37
  },
  {
   "metadata": {
    "ExecuteTime": {
     "end_time": "2025-03-28T15:29:18.198823Z",
     "start_time": "2025-03-28T15:29:18.193212Z"
    }
   },
   "cell_type": "code",
   "source": "git_good_bench_train[git_good_bench_train['sample_type'] == 'merge']['difficulty'].value_counts(normalize=True)",
   "id": "682b570b93b57454",
   "outputs": [
    {
     "data": {
      "text/plain": [
       "difficulty\n",
       "easy      0.516622\n",
       "hard      0.299984\n",
       "medium    0.183393\n",
       "Name: proportion, dtype: float64"
      ]
     },
     "execution_count": 35,
     "metadata": {},
     "output_type": "execute_result"
    }
   ],
   "execution_count": 35
  },
  {
   "metadata": {
    "ExecuteTime": {
     "end_time": "2025-03-31T12:53:33.030780Z",
     "start_time": "2025-03-31T12:53:32.956891Z"
    }
   },
   "cell_type": "code",
   "source": "git_good_bench_train = pd.read_csv('../../data/git_good_bench_train.csv', index_col=0)",
   "id": "4ef67216145d5ce",
   "outputs": [],
   "execution_count": 65
  },
  {
   "metadata": {
    "ExecuteTime": {
     "end_time": "2025-03-31T12:53:34.292720Z",
     "start_time": "2025-03-31T12:53:34.290224Z"
    }
   },
   "cell_type": "code",
   "source": "git_good_bench_train.reset_index(drop=True, inplace=True)",
   "id": "b64b2f3bd31183a6",
   "outputs": [],
   "execution_count": 66
  },
  {
   "metadata": {
    "ExecuteTime": {
     "end_time": "2025-03-31T12:53:34.985782Z",
     "start_time": "2025-03-31T12:53:34.980512Z"
    }
   },
   "cell_type": "code",
   "source": "len(git_good_bench_train.id.unique())",
   "id": "f1f83c24f9ffdf64",
   "outputs": [
    {
     "data": {
      "text/plain": [
       "17469"
      ]
     },
     "execution_count": 67,
     "metadata": {},
     "output_type": "execute_result"
    }
   ],
   "execution_count": 67
  },
  {
   "metadata": {
    "ExecuteTime": {
     "end_time": "2025-03-31T12:54:05.542942Z",
     "start_time": "2025-03-31T12:54:05.538167Z"
    }
   },
   "cell_type": "code",
   "source": "git_good_bench_train.drop(columns=['project_activity'], inplace=True)",
   "id": "dd029ca6a627b2bc",
   "outputs": [],
   "execution_count": 70
  },
  {
   "metadata": {
    "ExecuteTime": {
     "end_time": "2025-03-31T12:54:06.205788Z",
     "start_time": "2025-03-31T12:54:06.184255Z"
    }
   },
   "cell_type": "code",
   "source": "git_good_bench_train.to_parquet('../../data/git_good_bench_train.parquet')",
   "id": "57171a409bb66f77",
   "outputs": [],
   "execution_count": 71
  },
  {
   "metadata": {},
   "cell_type": "markdown",
   "source": "# Cross validate YTSaurus and local dataset versions",
   "id": "44400439a0d911e5"
  },
  {
   "metadata": {
    "ExecuteTime": {
     "end_time": "2025-03-28T15:39:14.012535Z",
     "start_time": "2025-03-28T15:39:14.007959Z"
    }
   },
   "cell_type": "code",
   "source": "git_good_bench_lite_yt = pd.read_csv('../../data/git_good_bench_lite_yt.csv', index_col=0)",
   "id": "1ef406877c8cda0f",
   "outputs": [],
   "execution_count": 38
  },
  {
   "metadata": {
    "ExecuteTime": {
     "end_time": "2025-03-28T15:39:27.387018Z",
     "start_time": "2025-03-28T15:39:27.383413Z"
    }
   },
   "cell_type": "code",
   "source": "set(git_good_bench_lite_yt['id']) - set(git_good_bench_lite['id'])",
   "id": "c8cbd7a3216bb17c",
   "outputs": [
    {
     "data": {
      "text/plain": [
       "set()"
      ]
     },
     "execution_count": 40,
     "metadata": {},
     "output_type": "execute_result"
    }
   ],
   "execution_count": 40
  },
  {
   "metadata": {
    "ExecuteTime": {
     "end_time": "2025-03-28T15:39:37.128044Z",
     "start_time": "2025-03-28T15:39:37.124827Z"
    }
   },
   "cell_type": "code",
   "source": "set(git_good_bench_lite['id']) - set(git_good_bench_lite_yt['id'])",
   "id": "e7db26ac3208ae63",
   "outputs": [
    {
     "data": {
      "text/plain": [
       "set()"
      ]
     },
     "execution_count": 41,
     "metadata": {},
     "output_type": "execute_result"
    }
   ],
   "execution_count": 41
  },
  {
   "metadata": {
    "ExecuteTime": {
     "end_time": "2025-03-28T15:40:22.188847Z",
     "start_time": "2025-03-28T15:40:22.178541Z"
    }
   },
   "cell_type": "code",
   "source": "git_good_bench_yt = pd.read_csv('../../data/git_good_bench_yt.csv', index_col=0)",
   "id": "ab76f16258d841bc",
   "outputs": [],
   "execution_count": 42
  },
  {
   "metadata": {
    "ExecuteTime": {
     "end_time": "2025-03-28T15:40:22.668617Z",
     "start_time": "2025-03-28T15:40:22.666469Z"
    }
   },
   "cell_type": "code",
   "source": "set(git_good_bench_yt['id']) - set(git_good_bench['id'])",
   "id": "f13594c9c63f8c20",
   "outputs": [
    {
     "data": {
      "text/plain": [
       "set()"
      ]
     },
     "execution_count": 43,
     "metadata": {},
     "output_type": "execute_result"
    }
   ],
   "execution_count": 43
  },
  {
   "metadata": {
    "ExecuteTime": {
     "end_time": "2025-03-28T15:40:23.178512Z",
     "start_time": "2025-03-28T15:40:23.175566Z"
    }
   },
   "cell_type": "code",
   "source": "set(git_good_bench['id']) - set(git_good_bench_yt['id'])",
   "id": "459929190063ce30",
   "outputs": [
    {
     "data": {
      "text/plain": [
       "set()"
      ]
     },
     "execution_count": 44,
     "metadata": {},
     "output_type": "execute_result"
    }
   ],
   "execution_count": 44
  },
  {
   "metadata": {},
   "cell_type": "code",
   "outputs": [],
   "execution_count": null,
   "source": "",
   "id": "4ecccd7025912bb2"
  }
 ],
 "metadata": {
  "kernelspec": {
   "display_name": "Python 3",
   "language": "python",
   "name": "python3"
  },
  "language_info": {
   "codemirror_mode": {
    "name": "ipython",
    "version": 2
   },
   "file_extension": ".py",
   "mimetype": "text/x-python",
   "name": "python",
   "nbconvert_exporter": "python",
   "pygments_lexer": "ipython2",
   "version": "2.7.6"
  }
 },
 "nbformat": 4,
 "nbformat_minor": 5
}
